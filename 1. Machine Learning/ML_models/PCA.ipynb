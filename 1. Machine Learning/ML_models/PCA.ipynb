{
 "cells": [
  {
   "cell_type": "markdown",
   "id": "cb607e0d",
   "metadata": {},
   "source": [
    "## PCA (Principal component analysis)\n",
    "### What is PCA?\n",
    "PCA is commonly known as a dimensionality reduction algorithm, but it can also be used to visualize data (as high dimensions of data can be hard to visualize)\n",
    "\n",
    "### Great, what are the steps to do PCA?\n",
    "1. Standardize the range of continuous initial variables\n",
    "2. Compute the covariance matrix to identify correlations\n",
    "3. Compute the eigenvectors and eigenvalues of the covariance matrix to identify the principal components\n",
    "4. Create a feature vector to decide which principal components to keep, basically keeping k eigenvalues\n",
    "5. Recast the data along the principal components axes\n",
    "\n",
    "### What are eigenvalues and eigenvectors?\n",
    "Eigenvalues is a nonzero vector that changes at most by a scalar factor when that linear transformation is applied to it. The corresponding eigenvalue is the factor by which the eigenvector is scaled."
   ]
  },
  {
   "cell_type": "code",
   "execution_count": null,
   "id": "b4c20039",
   "metadata": {},
   "outputs": [],
   "source": [
    "%matplotlib inline\n",
    "import numpy as np\n",
    "import matplotlib.pyplot as plt\n",
    "import seaborn as sns; sns.set()"
   ]
  },
  {
   "cell_type": "code",
   "execution_count": null,
   "id": "5d33ea9a",
   "metadata": {},
   "outputs": [],
   "source": []
  }
 ],
 "metadata": {
  "kernelspec": {
   "display_name": "python_env",
   "language": "python",
   "name": "python_env"
  }
 },
 "nbformat": 4,
 "nbformat_minor": 5
}
