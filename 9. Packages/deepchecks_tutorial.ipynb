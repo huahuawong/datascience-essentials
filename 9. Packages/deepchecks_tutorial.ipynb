{
 "cells": [
  {
   "cell_type": "code",
   "execution_count": 8,
   "id": "490e8456",
   "metadata": {},
   "outputs": [],
   "source": [
    "# If you don't have deepchecks installed yet:\n",
    "import sys\n",
    "!{sys.executable} -m pip install deepchecks -U --quiet --user"
   ]
  },
  {
   "cell_type": "code",
   "execution_count": 9,
   "id": "a9011498",
   "metadata": {},
   "outputs": [],
   "source": [
    "from sklearn.ensemble import RandomForestClassifier\n",
    "from sklearn.model_selection import train_test_split\n",
    "from deepchecks.tabular.datasets.classification import iris"
   ]
  },
  {
   "cell_type": "code",
   "execution_count": 10,
   "id": "e65ad3d8",
   "metadata": {},
   "outputs": [],
   "source": [
    "# General imports\n",
    "import pandas as pd\n",
    "import numpy as np\n",
    "\n",
    "from deepchecks.tabular.datasets.classification import iris\n",
    "from sklearn.ensemble import RandomForestClassifier\n",
    "from sklearn.model_selection import train_test_split\n",
    "\n",
    "# Load Data\n",
    "iris_df = iris.load_data(data_format='Dataframe', as_train_test=False)\n",
    "label_col = 'target'\n",
    "df_train, df_test = train_test_split(iris_df, stratify=iris_df[label_col], random_state=0)\n",
    "\n",
    "# Train Model\n",
    "rf_clf = RandomForestClassifier(random_state=0)\n",
    "rf_clf.fit(df_train.drop(label_col, axis=1), df_train[label_col]);"
   ]
  },
  {
   "cell_type": "markdown",
   "id": "5aa38fb6",
   "metadata": {},
   "source": [
    "## Define a Dataset Object\n",
    "Initialize the Dataset object, stating the relevant metadata about the dataset (e.g. the name for the label column)\n",
    "\n",
    "Check out the Dataset’s attributes to see which additional special columns can be declared and used (e.g. date column, index column)."
   ]
  },
  {
   "cell_type": "code",
   "execution_count": 11,
   "id": "516cc7a3",
   "metadata": {},
   "outputs": [],
   "source": [
    "from deepchecks.tabular import Dataset\n",
    "\n",
    "# We explicitly state that this dataset has no categorical features, otherwise they will be automatically inferred\n",
    "# If the dataset has categorical features, the best practice is to pass a list with their names\n",
    "\n",
    "ds_train = Dataset(df_train, label=label_col, cat_features=[])\n",
    "ds_test =  Dataset(df_test,  label=label_col, cat_features=[])"
   ]
  },
  {
   "cell_type": "markdown",
   "id": "cbe89b12",
   "metadata": {},
   "source": [
    "## Run a Deepchecks Suite\n",
    "Run the full suite. Use the full_suite that is a collection of (most of) the prebuilt checks."
   ]
  },
  {
   "cell_type": "code",
   "execution_count": 12,
   "id": "20e3f3a7",
   "metadata": {},
   "outputs": [],
   "source": [
    "from deepchecks.tabular.suites import full_suite\n",
    "\n",
    "suite = full_suite()"
   ]
  },
  {
   "cell_type": "code",
   "execution_count": 13,
   "id": "2bc55c16",
   "metadata": {},
   "outputs": [
    {
     "data": {
      "application/vnd.jupyter.widget-view+json": {
       "model_id": "",
       "version_major": 2,
       "version_minor": 0
      },
      "text/plain": [
       "Full Suite:   0%|          | 0/35 [00:00<?, ? Check/s]"
      ]
     },
     "metadata": {},
     "output_type": "display_data"
    },
    {
     "data": {
      "application/vnd.jupyter.widget-view+json": {
       "model_id": "ab5c33ebeb6f47e8921ed116ecde6655",
       "version_major": 2,
       "version_minor": 0
      },
      "text/plain": [
       "VBox(children=(HTML(value='\\n        <h1 id=\"summary_VVWJE\">Full Suite</h1>\\n        <p>\\n            The suit…"
      ]
     },
     "metadata": {},
     "output_type": "display_data"
    }
   ],
   "source": [
    "suite.run(train_dataset=ds_train, test_dataset=ds_test, model=rf_clf)"
   ]
  },
  {
   "cell_type": "code",
   "execution_count": 20,
   "id": "aff56b13",
   "metadata": {},
   "outputs": [
    {
     "name": "stdout",
     "output_type": "stream",
     "text": [
      "\n"
     ]
    }
   ],
   "source": [
    "# import deepchecks\n",
    "# print(deepchecks.__version__)"
   ]
  },
  {
   "cell_type": "markdown",
   "id": "01de0505",
   "metadata": {},
   "source": [
    "## Run the integrity suite\n",
    "If you still haven’t started modeling and just have a single dataset, you can use the single_dataset_integrity:\n"
   ]
  },
  {
   "cell_type": "code",
   "execution_count": 21,
   "id": "259aefce",
   "metadata": {},
   "outputs": [
    {
     "data": {
      "application/vnd.jupyter.widget-view+json": {
       "model_id": "",
       "version_major": 2,
       "version_minor": 0
      },
      "text/plain": [
       "Single Dataset Integrity Suite:   0%|          | 0/8 [00:00<?, ? Check/s]"
      ]
     },
     "metadata": {},
     "output_type": "display_data"
    },
    {
     "data": {
      "application/vnd.jupyter.widget-view+json": {
       "model_id": "fb8c7b4aa9d448e2a33691427ae4b114",
       "version_major": 2,
       "version_minor": 0
      },
      "text/plain": [
       "VBox(children=(HTML(value='\\n        <h1 id=\"summary_7ZYEX\">Single Dataset Integrity Suite</h1>\\n        <p>\\n…"
      ]
     },
     "metadata": {},
     "output_type": "display_data"
    }
   ],
   "source": [
    "\n",
    "from deepchecks.tabular.suites import single_dataset_integrity\n",
    "\n",
    "integ_suite = single_dataset_integrity()\n",
    "integ_suite.run(ds_train)"
   ]
  },
  {
   "cell_type": "code",
   "execution_count": 22,
   "id": "bf7dc398",
   "metadata": {},
   "outputs": [],
   "source": [
    "# Flexible integration for any Python script\n",
    "import wandb"
   ]
  },
  {
   "cell_type": "code",
   "execution_count": 23,
   "id": "7264a425",
   "metadata": {},
   "outputs": [
    {
     "name": "stderr",
     "output_type": "stream",
     "text": [
      "wandb: Currently logged in as: huahuawong (use `wandb login --relogin` to force relogin)\n"
     ]
    },
    {
     "data": {
      "text/html": [
       "Tracking run with wandb version 0.12.11"
      ],
      "text/plain": [
       "<IPython.core.display.HTML object>"
      ]
     },
     "metadata": {},
     "output_type": "display_data"
    },
    {
     "data": {
      "text/html": [
       "Run data is saved locally in <code>C:\\Users\\User\\Desktop\\Datadaddy\\Deepchecks\\wandb\\run-20220403_092336-1iuatp50</code>"
      ],
      "text/plain": [
       "<IPython.core.display.HTML object>"
      ]
     },
     "metadata": {},
     "output_type": "display_data"
    },
    {
     "data": {
      "text/html": [
       "Syncing run <strong><a href=\"https://wandb.ai/huahuawong/gpt5/runs/1iuatp50\" target=\"_blank\">glamorous-yogurt-1</a></strong> to <a href=\"https://wandb.ai/huahuawong/gpt5\" target=\"_blank\">Weights & Biases</a> (<a href=\"https://wandb.me/run\" target=\"_blank\">docs</a>)<br/>"
      ],
      "text/plain": [
       "<IPython.core.display.HTML object>"
      ]
     },
     "metadata": {},
     "output_type": "display_data"
    },
    {
     "data": {
      "text/html": [
       "<button onClick=\"this.nextSibling.style.display='block';this.style.display='none';\">Display W&B run</button><iframe src=\"https://wandb.ai/huahuawong/gpt5/runs/1iuatp50?jupyter=true\" style=\"border:none;width:100%;height:420px;display:none;\"></iframe>"
      ],
      "text/plain": [
       "<wandb.sdk.wandb_run.Run at 0x29cee608a30>"
      ]
     },
     "execution_count": 23,
     "metadata": {},
     "output_type": "execute_result"
    }
   ],
   "source": [
    "# 1. Start a W&B run and save hyperparameters\n",
    "wandb.init(project='gpt5', config={\"epochs\": 4})\n"
   ]
  },
  {
   "cell_type": "code",
   "execution_count": 25,
   "id": "739dd149",
   "metadata": {},
   "outputs": [],
   "source": [
    "# Model training here\n",
    "\n",
    "# 2. Log metrics over time to visualize performance\n",
    "# wandb.log({\"loss\": loss})"
   ]
  },
  {
   "cell_type": "code",
   "execution_count": null,
   "id": "77caea4b",
   "metadata": {},
   "outputs": [],
   "source": []
  }
 ],
 "metadata": {
  "kernelspec": {
   "display_name": "Python [conda env:python_gpu]",
   "language": "python",
   "name": "conda-env-python_gpu-py"
  },
  "language_info": {
   "codemirror_mode": {
    "name": "ipython",
    "version": 3
   },
   "file_extension": ".py",
   "mimetype": "text/x-python",
   "name": "python",
   "nbconvert_exporter": "python",
   "pygments_lexer": "ipython3",
   "version": "3.8.8"
  }
 },
 "nbformat": 4,
 "nbformat_minor": 5
}
